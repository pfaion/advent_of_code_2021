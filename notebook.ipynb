{
 "cells": [
  {
   "cell_type": "markdown",
   "metadata": {},
   "source": [
    "# Advent Of Code 2021\n",
    "\n",
    "This repository tracks my solutions for [Advent Of Code 2021](https://adventofcode.com/2021). This year I decided to create a single jupyter notebook for documenting the journey. The notebook is finally converted into a markdown file, so it can be used as this repo's README. Instructions are just copied as plain HTML from the website. "
   ]
  },
  {
   "cell_type": "markdown",
   "metadata": {},
   "source": [
    "<h2>Day 1: Sonar Sweep</h2>\n",
    "<details><summary>Expand/collapse</summary>\n",
    "<p>You're minding your own business on a ship at sea when the overboard alarm goes off! You rush to see if you can help. Apparently, one of the Elves tripped and accidentally sent the sleigh keys flying into the ocean!</p>\n",
    "<p>Before you know it, you're inside a submarine the Elves keep ready for situations like this. It's covered in Christmas lights (because of course it is), and it even has an experimental antenna that should be able to track the keys if you can boost its signal strength high enough; there's a little meter that indicates the antenna's signal strength by displaying 0-50 <em class=\"star\">stars</em>.</p>\n",
    "<p>Your instincts tell you that in order to save Christmas, you'll need to get all <em class=\"star\">fifty stars</em> by December 25th.</p>\n",
    "<p>Collect stars by solving puzzles.  Two puzzles will be made available on each day in the Advent calendar; the second puzzle is unlocked when you complete the first.  Each puzzle grants <em class=\"star\">one star</em>. Good luck!</p>\n",
    "<p>As the submarine drops below the surface of the ocean, it automatically performs a sonar sweep of the nearby sea floor. On a small screen, the sonar sweep report (your puzzle input) appears: each line is a measurement of the sea floor depth as the sweep looks further and further away from the submarine.</p>\n",
    "<p>For example, suppose you had the following report:</p>\n",
    "<pre><code>199\n",
    "200\n",
    "208\n",
    "210\n",
    "200\n",
    "207\n",
    "240\n",
    "269\n",
    "260\n",
    "263\n",
    "</code></pre>\n",
    "<p>This report indicates that, scanning outward from the submarine, the sonar sweep found depths of <code>199</code>, <code>200</code>, <code>208</code>, <code>210</code>, and so on.</p>\n",
    "<p>The first order of business is to figure out how quickly the depth increases, just so you know what you're dealing with - you never know if the keys will get <span title=\"Does this premise seem fishy to you?\">carried into deeper water</span> by an ocean current or a fish or something.</p>\n",
    "<p>To do this, count <em>the number of times a depth measurement increases</em> from the previous measurement. (There is no measurement before the first measurement.) In the example above, the changes are as follows:</p>\n",
    "<pre><code>199 (N/A - no previous measurement)\n",
    "200 (<em>increased</em>)\n",
    "208 (<em>increased</em>)\n",
    "210 (<em>increased</em>)\n",
    "200 (decreased)\n",
    "207 (<em>increased</em>)\n",
    "240 (<em>increased</em>)\n",
    "269 (<em>increased</em>)\n",
    "260 (decreased)\n",
    "263 (<em>increased</em>)\n",
    "</code></pre>\n",
    "<p>In this example, there are <em><code>7</code></em> measurements that are larger than the previous measurement.</p>\n",
    "<p><em>How many measurements are larger than the previous measurement?</em></p>\n",
    "</details>"
   ]
  },
  {
   "cell_type": "markdown",
   "metadata": {},
   "source": [
    "### Solution Puzzle 1\n",
    "\n",
    "Let's take a quick look at the data first:\n"
   ]
  },
  {
   "cell_type": "code",
   "execution_count": 1,
   "metadata": {},
   "outputs": [
    {
     "data": {
      "text/plain": [
       "Text(0, 0.5, 'sea floor depth')"
      ]
     },
     "execution_count": 1,
     "metadata": {},
     "output_type": "execute_result"
    },
    {
     "data": {
      "image/png": "[encoded data removed]",
      "text/plain": [
       "<Figure size 1152x288 with 1 Axes>"
      ]
     },
     "metadata": {},
     "output_type": "display_data"
    }
   ],
   "source": [
    "import tools\n",
    "from matplotlib import pyplot as plt\n",
    "\n",
    "plt.rcParams.update({\"figure.facecolor\": (1.0, 1.0, 1.0, 1.0)})\n",
    "\n",
    "sea_floor_depths = tools.load_ints(\"day01.txt\")\n",
    "\n",
    "plt.figure(figsize=(16, 4))\n",
    "plt.plot(sea_floor_depths)\n",
    "plt.gca().invert_yaxis()\n",
    "plt.xlabel(\"measurement #\")\n",
    "plt.ylabel(\"sea floor depth\")\n"
   ]
  },
  {
   "cell_type": "markdown",
   "metadata": {},
   "source": [
    "For the solution we simply need to iterate over the list of numbers in pairs."
   ]
  },
  {
   "cell_type": "code",
   "execution_count": 2,
   "metadata": {},
   "outputs": [
    {
     "name": "stdout",
     "output_type": "stream",
     "text": [
      "1532\n"
     ]
    }
   ],
   "source": [
    "from itertools import pairwise\n",
    "\n",
    "n_increments = sum(1 for a, b in pairwise(sea_floor_depths) if b > a)\n",
    "\n",
    "print(n_increments)\n"
   ]
  },
  {
   "cell_type": "markdown",
   "metadata": {},
   "source": [
    "### Part Two\n",
    "<details><summary>Expand/collapse</summary>\n",
    "<p>Considering every single measurement isn't as useful as you expected: there's just too much noise in the data.</p>\n",
    "<p>Instead, consider sums of a <em>three-measurement sliding window</em>.  Again considering the above example:</p>\n",
    "<pre><code>199  A      \n",
    "200  A B    \n",
    "208  A B C  \n",
    "210    B C D\n",
    "200  E   C D\n",
    "207  E F   D\n",
    "240  E F G  \n",
    "269    F G H\n",
    "260      G H\n",
    "263        H\n",
    "</code></pre>\n",
    "<p>Start by comparing the first and second three-measurement windows. The measurements in the first window are marked <code>A</code> (<code>199</code>, <code>200</code>, <code>208</code>); their sum is <code>199 + 200 + 208 = 607</code>. The second window is marked <code>B</code> (<code>200</code>, <code>208</code>, <code>210</code>); its sum is <code>618</code>. The sum of measurements in the second window is larger than the sum of the first, so this first comparison <em>increased</em>.</p>\n",
    "<p>Your goal now is to count <em>the number of times the sum of measurements in this sliding window increases</em> from the previous sum. So, compare <code>A</code> with <code>B</code>, then compare <code>B</code> with <code>C</code>, then <code>C</code> with <code>D</code>, and so on. Stop when there aren't enough measurements left to create a new three-measurement sum.</p>\n",
    "<p>In the above example, the sum of each three-measurement window is as follows:</p>\n",
    "<pre><code>A: 607 (N/A - no previous sum)\n",
    "B: 618 (<em>increased</em>)\n",
    "C: 618 (no change)\n",
    "D: 617 (decreased)\n",
    "E: 647 (<em>increased</em>)\n",
    "F: 716 (<em>increased</em>)\n",
    "G: 769 (<em>increased</em>)\n",
    "H: 792 (<em>increased</em>)\n",
    "</code></pre>\n",
    "<p>In this example, there are <em><code>5</code></em> sums that are larger than the previous sum.</p>\n",
    "<p>Consider sums of a three-measurement sliding window. <em>How many sums are larger than the previous sum?</em></p>\n",
    "</details>"
   ]
  },
  {
   "cell_type": "markdown",
   "metadata": {},
   "source": [
    "### Solution Puzzle 2\n",
    "\n",
    "Here we need something like `pairwise`, but for triples. Generalized, this is a sliding window function. Unfortunately there is none in the standard library, so we create our own."
   ]
  },
  {
   "cell_type": "code",
   "execution_count": 3,
   "metadata": {},
   "outputs": [],
   "source": [
    "from typing import Iterable, Iterator, Sequence\n",
    "from collections import deque\n",
    "\n",
    "\n",
    "def sliding_window(data: Iterable, window_size: int) -> Iterator[Sequence]:\n",
    "    input_iterator = iter(data)\n",
    "    window = deque()\n",
    "    for value in input_iterator:\n",
    "        window.append(value)\n",
    "        if len(window) < window_size:\n",
    "            continue\n",
    "        yield tuple(window)\n",
    "        window.popleft()\n"
   ]
  },
  {
   "cell_type": "markdown",
   "metadata": {},
   "source": [
    "With this function we can quickly compute the sums and calculate the number of windowed measurement increments."
   ]
  },
  {
   "cell_type": "code",
   "execution_count": 4,
   "metadata": {},
   "outputs": [
    {
     "name": "stdout",
     "output_type": "stream",
     "text": [
      "1571\n"
     ]
    }
   ],
   "source": [
    "sums = [sum(values) for values in sliding_window(sea_floor_depths, 3)]\n",
    "n_increments = sum(1 for a, b in pairwise(sums) if b > a)\n",
    "\n",
    "print(n_increments)\n"
   ]
  },
  {
   "cell_type": "markdown",
   "metadata": {},
   "source": [
    "## Day 2: Dive!\n",
    "<details><summary>Expand/collapse</summary>\n",
    "<p>Now, you need to figure out how to <span title=\"Tank, I need a pilot program for a B212 helicopter.\">pilot this thing</span>.</p>\n",
    "<p>It seems like the submarine can take a series of commands like <code>forward 1</code>, <code>down 2</code>, or <code>up 3</code>:</p>\n",
    "<ul>\n",
    "<li><code>forward X</code> increases the horizontal position by <code>X</code> units.</li>\n",
    "<li><code>down X</code> <em>increases</em> the depth by <code>X</code> units.</li>\n",
    "<li><code>up X</code> <em>decreases</em> the depth by <code>X</code> units.</li>\n",
    "</ul>\n",
    "<p>Note that since you're on a submarine, <code>down</code> and <code>up</code> affect your <em>depth</em>, and so they have the opposite result of what you might expect.</p>\n",
    "<p>The submarine seems to already have a planned course (your puzzle input). You should probably figure out where it's going. For example:</p>\n",
    "<pre><code>forward 5\n",
    "down 5\n",
    "forward 8\n",
    "up 3\n",
    "down 8\n",
    "forward 2\n",
    "</code></pre>\n",
    "<p>Your horizontal position and depth both start at <code>0</code>. The steps above would then modify them as follows:</p>\n",
    "<ul>\n",
    "<li><code>forward 5</code> adds <code>5</code> to your horizontal position, a total of <code>5</code>.</li>\n",
    "<li><code>down 5</code> adds <code>5</code> to your depth, resulting in a value of <code>5</code>.</li>\n",
    "<li><code>forward 8</code> adds <code>8</code> to your horizontal position, a total of <code>13</code>.</li>\n",
    "<li><code>up 3</code> decreases your depth by <code>3</code>, resulting in a value of <code>2</code>.</li>\n",
    "<li><code>down 8</code> adds <code>8</code> to your depth, resulting in a value of <code>10</code>.</li>\n",
    "<li><code>forward 2</code> adds <code>2</code> to your horizontal position, a total of <code>15</code>.</li>\n",
    "</ul>\n",
    "<p>After following these instructions, you would have a horizontal position of <code>15</code> and a depth of <code>10</code>. (Multiplying these together produces <code><em>150</em></code>.)</p>\n",
    "<p>Calculate the horizontal position and depth you would have after following the planned course. <em>What do you get if you multiply your final horizontal position by your final depth?</em></p>\n",
    "</details>"
   ]
  },
  {
   "cell_type": "markdown",
   "metadata": {},
   "source": []
  }
 ],
 "metadata": {
  "interpreter": {
   "hash": "4b11abc008767fbd219437abff787b20807e4cbd2a8fd37bdf7b830b5c182199"
  },
  "kernelspec": {
   "display_name": "Python 3.10.0rc2 64-bit ('3.10.0rc2': pyenv)",
   "language": "python",
   "name": "python3"
  },
  "language_info": {
   "codemirror_mode": {
    "name": "ipython",
    "version": 3
   },
   "file_extension": ".py",
   "mimetype": "text/x-python",
   "name": "python",
   "nbconvert_exporter": "python",
   "pygments_lexer": "ipython3",
   "version": "3.10.0rc2"
  },
  "orig_nbformat": 4
 },
 "nbformat": 4,
 "nbformat_minor": 2
}
